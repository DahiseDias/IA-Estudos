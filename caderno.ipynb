{
 "cells": [
  {
   "cell_type": "code",
   "execution_count": 274,
   "metadata": {},
   "outputs": [],
   "source": [
    "import numpy as np, random, operator, pandas as pd, matplotlib.pyplot as plt, haversine, math"
   ]
  },
  {
   "cell_type": "markdown",
   "metadata": {},
   "source": [
    "Classes"
   ]
  },
  {
   "cell_type": "code",
   "execution_count": 294,
   "metadata": {},
   "outputs": [],
   "source": [
    "class City:\n",
    "    def __init__(self, x, y, Name):\n",
    "        self.x = x\n",
    "        self.y = y\n",
    "        self.name = Name\n",
    "    \n",
    "    def distance(self, city):\n",
    "        # xDis = abs(self.x - city.x)\n",
    "        # yDis = abs(self.y - city.y)\n",
    "        # distance = np.sqrt((xDis ** 2) + (yDis ** 2))\n",
    "        fromCity = (self.x, self.y)\n",
    "        toCity = (city.x, city.y)\n",
    "        distance = haversine.haversine(fromCity, toCity)\n",
    "        return distance\n",
    "    \n",
    "    def __repr__(self):\n",
    "        return \"(\" + str(self.x) + \",\" + str(self.y) + \",\" + self.name + \")\"\n"
   ]
  },
  {
   "cell_type": "code",
   "execution_count": 276,
   "metadata": {},
   "outputs": [],
   "source": [
    "class Fitness:\n",
    "    def __init__(self, route):\n",
    "        self.route = route\n",
    "        self.distance = 0\n",
    "        self.fitness= 0.0\n",
    "    \n",
    "    def routeDistance(self):\n",
    "        if self.distance ==0:\n",
    "            pathDistance = 0\n",
    "            for i in range(0, len(self.route)):\n",
    "                fromCity = self.route[i]\n",
    "                toCity = None\n",
    "                if i + 1 < len(self.route):\n",
    "                    toCity = self.route[i + 1]\n",
    "                else:\n",
    "                    toCity = self.route[0]\n",
    "                pathDistance += fromCity.distance(toCity)\n",
    "                \n",
    "            self.distance = pathDistance\n",
    "        return self.distance\n",
    "    \n",
    "    def routeFitness(self):\n",
    "        if self.fitness == 0:\n",
    "            self.fitness = 1 / float(self.routeDistance())\n",
    "        return self.fitness\n"
   ]
  },
  {
   "cell_type": "markdown",
   "metadata": {},
   "source": [
    "Functions"
   ]
  },
  {
   "cell_type": "markdown",
   "metadata": {},
   "source": [
    "### population"
   ]
  },
  {
   "cell_type": "code",
   "execution_count": 277,
   "metadata": {},
   "outputs": [],
   "source": [
    "def createRoute(cityList):\n",
    "    route = random.sample(cityList, len(cityList))\n",
    "    return route"
   ]
  },
  {
   "cell_type": "code",
   "execution_count": 278,
   "metadata": {},
   "outputs": [],
   "source": [
    "def initialPopulation(popSize, cityList):\n",
    "    population = []\n",
    "\n",
    "    for i in range(0, popSize):\n",
    "        population.append(createRoute(cityList))\n",
    "    return population"
   ]
  },
  {
   "cell_type": "markdown",
   "metadata": {},
   "source": [
    "### routes"
   ]
  },
  {
   "cell_type": "code",
   "execution_count": 279,
   "metadata": {},
   "outputs": [],
   "source": [
    "def rankRoutes(population):\n",
    "    fitnessResults = {}\n",
    "    for i in range(0,len(population)):\n",
    "        fitnessResults[i] = Fitness(population[i]).routeFitness()\n",
    "    return sorted(fitnessResults.items(), key = operator.itemgetter(1), reverse = True)\n"
   ]
  },
  {
   "cell_type": "code",
   "execution_count": 280,
   "metadata": {},
   "outputs": [],
   "source": [
    "def selection(popRanked, eliteSize):\n",
    "    selectionResults = []\n",
    "    df = pd.DataFrame(np.array(popRanked), columns=[\"Index\",\"Fitness\"])\n",
    "    df['cum_sum'] = df.Fitness.cumsum()\n",
    "    df['cum_perc'] = 100*df.cum_sum/df.Fitness.sum()\n",
    "    \n",
    "    for i in range(0, eliteSize):\n",
    "        selectionResults.append(popRanked[i][0])\n",
    "    for i in range(0, len(popRanked) - eliteSize):\n",
    "        pick = 100*random.random()\n",
    "        for i in range(0, len(popRanked)):\n",
    "            if pick <= df.iat[i,3]:\n",
    "                selectionResults.append(popRanked[i][0])\n",
    "                break\n",
    "    return selectionResults"
   ]
  },
  {
   "cell_type": "code",
   "execution_count": 281,
   "metadata": {},
   "outputs": [],
   "source": [
    "def matingPool(population, selectionResults):\n",
    "    matingpool = []\n",
    "    for i in range(0, len(selectionResults)):\n",
    "        index = selectionResults[i]\n",
    "        matingpool.append(population[index])\n",
    "    return matingpool"
   ]
  },
  {
   "cell_type": "markdown",
   "metadata": {},
   "source": [
    "## CHILD"
   ]
  },
  {
   "cell_type": "code",
   "execution_count": 282,
   "metadata": {},
   "outputs": [],
   "source": [
    "def breed(parent1, parent2):\n",
    "    child = []\n",
    "    childP1 = []\n",
    "    childP2 = []\n",
    "    \n",
    "    geneA = int(random.random() * len(parent1))\n",
    "    geneB = int(random.random() * len(parent1))\n",
    "    \n",
    "    startGene = min(geneA, geneB)\n",
    "    endGene = max(geneA, geneB)\n",
    "\n",
    "    for i in range(startGene, endGene):\n",
    "        childP1.append(parent1[i])\n",
    "        \n",
    "    childP2 = [item for item in parent2 if item not in childP1]\n",
    "\n",
    "    child = childP1 + childP2\n",
    "    return child\n"
   ]
  },
  {
   "cell_type": "code",
   "execution_count": 283,
   "metadata": {},
   "outputs": [],
   "source": [
    "def breedPopulation(matingpool, eliteSize):\n",
    "    children = []\n",
    "    length = len(matingpool) - eliteSize\n",
    "    pool = random.sample(matingpool, len(matingpool))\n",
    "\n",
    "    for i in range(0,eliteSize):\n",
    "        children.append(matingpool[i])\n",
    "    \n",
    "    for i in range(0, length):\n",
    "        child = breed(pool[i], pool[len(matingpool)-i-1])\n",
    "        children.append(child)\n",
    "    return children\n"
   ]
  },
  {
   "cell_type": "code",
   "execution_count": 284,
   "metadata": {},
   "outputs": [],
   "source": [
    "def mutate(individual, mutationRate):\n",
    "    for swapped in range(len(individual)):\n",
    "        if(random.random() < mutationRate):\n",
    "            swapWith = int(random.random() * len(individual))\n",
    "            \n",
    "            city1 = individual[swapped]\n",
    "            city2 = individual[swapWith]\n",
    "            \n",
    "            individual[swapped] = city2\n",
    "            individual[swapWith] = city1\n",
    "    return individual"
   ]
  },
  {
   "cell_type": "code",
   "execution_count": 285,
   "metadata": {},
   "outputs": [],
   "source": [
    "def nextGeneration(currentGen, eliteSize, mutationRate):\n",
    "    popRanked = rankRoutes(currentGen)\n",
    "    selectionResults = selection(popRanked, eliteSize)\n",
    "    matingpool = matingPool(currentGen, selectionResults)\n",
    "    children = breedPopulation(matingpool, eliteSize)\n",
    "    nextGeneration = mutatePopulation(children, mutationRate)\n",
    "    return nextGeneration"
   ]
  },
  {
   "cell_type": "markdown",
   "metadata": {},
   "source": [
    "### Genetic Algorithm"
   ]
  },
  {
   "cell_type": "code",
   "execution_count": 306,
   "metadata": {},
   "outputs": [],
   "source": [
    "def geneticAlgorithm(population, popSize, eliteSize, mutationRate, generations):\n",
    "    pop = initialPopulation(popSize, population)\n",
    "    print(\"Initial distance: %.2f KM\" %(1 / rankRoutes(pop)[0][1]))\n",
    "    repeatCount = 0\n",
    "    for i in range(0, generations):\n",
    "        pop = nextGeneration(pop, eliteSize, mutationRate)\n",
    "        \n",
    "    print(\"Final distance: %.2f KM \" %(1 / rankRoutes(pop)[0][1]))\n",
    "    bestRouteIndex = rankRoutes(pop)[0][0]\n",
    "    bestRoute = pop[bestRouteIndex]\n",
    "    return bestRoute\n"
   ]
  },
  {
   "cell_type": "code",
   "execution_count": 307,
   "metadata": {},
   "outputs": [],
   "source": [
    "def mutatePopulation(population, mutationRate):\n",
    "    mutatedPop = []\n",
    "    \n",
    "    for ind in range(0, len(population)):\n",
    "        mutatedInd = mutate(population[ind], mutationRate)\n",
    "        mutatedPop.append(mutatedInd)\n",
    "    return mutatedPop"
   ]
  },
  {
   "cell_type": "markdown",
   "metadata": {},
   "source": [
    "Run Code"
   ]
  },
  {
   "cell_type": "code",
   "execution_count": 308,
   "metadata": {},
   "outputs": [],
   "source": [
    "cityList = []\n",
    "\n",
    "cityList.append(City(35.6761682232498, 139.65034365137095, \"Tokyo\")) #Tokyo\n",
    "cityList.append(City(43.17375155501808, 141.38640423363793, \"Sapporo\")) #Sapporo\n",
    "cityList.append(City(32.731672517287365, 129.88290344893076,\"Nagasaki\" )) #Nagasaki\n",
    "cityList.append(City(35.234336587353866, 139.02014399229557,\"Hakone\")) #Hakone\n",
    "cityList.append(City(35.00676564513197, 138.38524938948356,\"Shizuoka\")) #Shizuoka\n",
    "cityList.append(City(35.22133096301226, 136.9006389352204,\"Nagoya\"))#Nagoya\n",
    "cityList.append(City(35.065281810898774, 135.7825971974962,\"Kyoto\")) #Kyoto\n",
    "cityList.append(City(34.49696157627642, 132.44415808986204,\"Hiroshima\")) #Hiroshima\n",
    "cityList.append(City(36.628742641108836, 136.60262431552695,\"Kanazawa\")) #Kanazawa\n",
    "cityList.append(City(37.80784191567834, 140.48048187247403,\"Fukushima\")) #Fukushima\n",
    "cityList.append(City(34.088100765961954, 134.61056457310585,\"Tokushima\")) #Tokushima\n",
    "cityList.append(City(38.33038354768187, 140.8990567443994,\"Sendai\"))#Sendai\n",
    "cityList.append(City(40.92827041575595, 140.71978296111592,\"Aomori\"))#Aomori\n",
    "cityList.append(City(35.486283012019484, 133.88137828865754,\"Totori\")) #Totori\n",
    "cityList.append(City(33.720934381634166, 130.36595964990005,\"Fukuoka\")) #Fukuoka\n",
    "\n",
    "\n",
    "\n",
    "# for i in range(0,25):\n",
    "#     cityList.append(City(x=int(random.random() * 200), y=int(random.random() * 200)))"
   ]
  },
  {
   "cell_type": "code",
   "execution_count": 309,
   "metadata": {},
   "outputs": [
    {
     "name": "stdout",
     "output_type": "stream",
     "text": [
      "Initial distance: 6264.63 KM\n"
     ]
    },
    {
     "ename": "NameError",
     "evalue": "name 'progress' is not defined",
     "output_type": "error",
     "traceback": [
      "\u001b[1;31m---------------------------------------------------------------------------\u001b[0m",
      "\u001b[1;31mNameError\u001b[0m                                 Traceback (most recent call last)",
      "\u001b[1;32md:\\Projetos\\estudos\\IA\\caderno.ipynb Cell 23'\u001b[0m in \u001b[0;36m<cell line: 1>\u001b[1;34m()\u001b[0m\n\u001b[1;32m----> <a href='vscode-notebook-cell:/d%3A/Projetos/estudos/IA/caderno.ipynb#ch0000026?line=0'>1</a>\u001b[0m population \u001b[39m=\u001b[39m geneticAlgorithm(population\u001b[39m=\u001b[39;49mcityList, popSize\u001b[39m=\u001b[39;49m\u001b[39m100\u001b[39;49m, eliteSize\u001b[39m=\u001b[39;49m\u001b[39m10\u001b[39;49m, mutationRate\u001b[39m=\u001b[39;49m\u001b[39m0.01\u001b[39;49m, generations\u001b[39m=\u001b[39;49m\u001b[39m100\u001b[39;49m)\n",
      "\u001b[1;32md:\\Projetos\\estudos\\IA\\caderno.ipynb Cell 19'\u001b[0m in \u001b[0;36mgeneticAlgorithm\u001b[1;34m(population, popSize, eliteSize, mutationRate, generations)\u001b[0m\n\u001b[0;32m      <a href='vscode-notebook-cell:/d%3A/Projetos/estudos/IA/caderno.ipynb#ch0000019?line=4'>5</a>\u001b[0m \u001b[39mfor\u001b[39;00m i \u001b[39min\u001b[39;00m \u001b[39mrange\u001b[39m(\u001b[39m0\u001b[39m, generations):\n\u001b[0;32m      <a href='vscode-notebook-cell:/d%3A/Projetos/estudos/IA/caderno.ipynb#ch0000019?line=5'>6</a>\u001b[0m     pop \u001b[39m=\u001b[39m nextGeneration(pop, eliteSize, mutationRate)\n\u001b[1;32m----> <a href='vscode-notebook-cell:/d%3A/Projetos/estudos/IA/caderno.ipynb#ch0000019?line=6'>7</a>\u001b[0m     \u001b[39mif\u001b[39;00m progress[\u001b[39m-\u001b[39m\u001b[39m2\u001b[39m] \u001b[39m==\u001b[39m progress[\u001b[39m-\u001b[39m\u001b[39m1\u001b[39m]:\n\u001b[0;32m      <a href='vscode-notebook-cell:/d%3A/Projetos/estudos/IA/caderno.ipynb#ch0000019?line=7'>8</a>\u001b[0m         repeatCount \u001b[39m+\u001b[39m\u001b[39m=\u001b[39m \u001b[39m1\u001b[39m\n\u001b[0;32m      <a href='vscode-notebook-cell:/d%3A/Projetos/estudos/IA/caderno.ipynb#ch0000019?line=8'>9</a>\u001b[0m     \u001b[39mif\u001b[39;00m repeatCount \u001b[39m==\u001b[39m \u001b[39m10\u001b[39m:\n",
      "\u001b[1;31mNameError\u001b[0m: name 'progress' is not defined"
     ]
    }
   ],
   "source": [
    "population = geneticAlgorithm(population=cityList, popSize=100, eliteSize=10, mutationRate=0.01, generations=100)"
   ]
  },
  {
   "cell_type": "code",
   "execution_count": null,
   "metadata": {},
   "outputs": [
    {
     "data": {
      "text/plain": [
       "[(34.088100765961954,134.61056457310585,Tokushima),\n",
       " (32.731672517287365,129.88290344893076,Nagasaki),\n",
       " (33.720934381634166,130.36595964990005,Fukuoka),\n",
       " (34.49696157627642,132.44415808986204,Hiroshima),\n",
       " (35.486283012019484,133.88137828865754,Totori),\n",
       " (36.628742641108836,136.60262431552695,Kanazawa),\n",
       " (43.17375155501808,141.38640423363793,Sapporo),\n",
       " (40.92827041575595,140.71978296111592,Aomori),\n",
       " (38.33038354768187,140.8990567443994,Sendai),\n",
       " (37.80784191567834,140.48048187247403,Fukushima),\n",
       " (35.6761682232498,139.65034365137095,Tokyo),\n",
       " (35.234336587353866,139.02014399229557,Hakone),\n",
       " (35.00676564513197,138.38524938948356,Shizuoka),\n",
       " (35.22133096301226,136.9006389352204,Nagoya),\n",
       " (35.065281810898774,135.7825971974962,Kyoto)]"
      ]
     },
     "execution_count": 299,
     "metadata": {},
     "output_type": "execute_result"
    }
   ],
   "source": [
    "population"
   ]
  },
  {
   "cell_type": "markdown",
   "metadata": {},
   "source": [
    "### PLOT"
   ]
  },
  {
   "cell_type": "code",
   "execution_count": null,
   "metadata": {},
   "outputs": [],
   "source": [
    "\n",
    "def geneticAlgorithmPlot(population, popSize, eliteSize, mutationRate, generations):\n",
    "    pop = initialPopulation(popSize, population)\n",
    "    progress = []\n",
    "    progress.append(1 / rankRoutes(pop)[0][1])\n",
    "    repeatCount =0\n",
    "    \n",
    "    for i in range(0, generations):\n",
    "        pop = nextGeneration(pop, eliteSize, mutationRate)\n",
    "        progress.append(1 / rankRoutes(pop)[0][1])\n",
    "        if progress[-2] == progress[-1]:\n",
    "            repeatCount += 1\n",
    "        if repeatCount == 10:\n",
    "            break\n",
    "    \n",
    "    fig= plt.figure()\n",
    "    ax = fig.add_subplot()\n",
    "    plt.plot(progress)\n",
    "    \n",
    "    ax.set_xlabel('Distance')\n",
    "    ax.set_ylabel('Generation')\n",
    "\n",
    "    ax.xaxis.label.set_color('white')        \n",
    "    ax.yaxis.label.set_color('white')    \n",
    "\n",
    "    fig.set_figheight(6)\n",
    "    fig.set_figwidth(8)\n",
    "    ax.tick_params(axis='x', colors='white') \n",
    "    ax.tick_params(axis='y', colors='white') \n",
    "    plt.show()\n",
    "\n"
   ]
  },
  {
   "cell_type": "code",
   "execution_count": null,
   "metadata": {},
   "outputs": [
    {
     "data": {
      "image/png": "[encoded data removed]",
      "text/plain": [
       "<Figure size 576x432 with 1 Axes>"
      ]
     },
     "metadata": {
      "needs_background": "dark"
     },
     "output_type": "display_data"
    }
   ],
   "source": [
    "# plt.style.use('_mpl-gallery')\n",
    "\n",
    "# make data\n",
    "Xpoints = []\n",
    "Ypoints = []\n",
    "Labels = []\n",
    "\n",
    "for city in cityList:\n",
    "    Xpoints.append(city.x)\n",
    "    Ypoints.append(city.y)\n",
    "    Labels.append(city.name)\n",
    "\n",
    "x = Xpoints\n",
    "y = Ypoints\n",
    "\n",
    "# plot\n",
    "fig= plt.figure()\n",
    "ax = fig.add_subplot()\n",
    "\n",
    "plt.plot(x, y, marker=\".\",markersize=40)\n",
    "\n",
    "ax.scatter(x,y)\n",
    "for i in range(0, 15):\n",
    "    ax.annotate(Labels[i], (x[i], y[i]))\n",
    "ax.set_xlabel('Longitude')\n",
    "ax.set_ylabel('Latitude')\n",
    "\n",
    "ax.xaxis.label.set_color('white')        \n",
    "ax.yaxis.label.set_color('white')    \n",
    "\n",
    "fig.set_figheight(6)\n",
    "fig.set_figwidth(8)\n",
    "ax.tick_params(axis='x', colors='white') \n",
    "ax.tick_params(axis='y', colors='white') \n",
    "\n",
    "plt.show()"
   ]
  },
  {
   "cell_type": "code",
   "execution_count": null,
   "metadata": {},
   "outputs": [
    {
     "data": {
      "image/png": "[encoded data removed]",
      "text/plain": [
       "<Figure size 576x432 with 1 Axes>"
      ]
     },
     "metadata": {
      "needs_background": "dark"
     },
     "output_type": "display_data"
    }
   ],
   "source": [
    "geneticAlgorithmPlot(population=cityList, popSize=100, eliteSize=10, mutationRate=0.01, generations=100)"
   ]
  }
 ],
 "metadata": {
  "interpreter": {
   "hash": "2be5faf79681da6f2a61fdfdd5405d65d042280f7fba6178067603e3a2925119"
  },
  "kernelspec": {
   "display_name": "Python 3.10.0 64-bit",
   "language": "python",
   "name": "python3"
  },
  "language_info": {
   "codemirror_mode": {
    "name": "ipython",
    "version": 3
   },
   "file_extension": ".py",
   "mimetype": "text/x-python",
   "name": "python",
   "nbconvert_exporter": "python",
   "pygments_lexer": "ipython3",
   "version": "3.10.0"
  },
  "orig_nbformat": 4
 },
 "nbformat": 4,
 "nbformat_minor": 2
}
